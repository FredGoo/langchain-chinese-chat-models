{
 "cells": [
  {
   "cell_type": "code",
   "execution_count": 1,
   "id": "1e206a19-7c49-4302-8071-25b147fad783",
   "metadata": {},
   "outputs": [],
   "source": [
    "import os\n",
    "\n",
    "from dotenv import load_dotenv, find_dotenv\n",
    "from langchain.chat_models import ChatOpenAI\n",
    "from langchain.prompts import ChatPromptTemplate\n",
    "\n",
    "# read local .env file\n",
    "_ = load_dotenv(find_dotenv())\n",
    "gpt_api_key = os.environ['API2D_API_KEY']"
   ]
  },
  {
   "cell_type": "code",
   "execution_count": 5,
   "id": "1526e0f9-54ae-41cf-8c71-9ce44ef90501",
   "metadata": {},
   "outputs": [],
   "source": [
    "chat = ChatOpenAI(\n",
    "    temperature=0.0,\n",
    "    model_name=\"gpt-3.5-turbo\",\n",
    "    max_tokens=1000,\n",
    "    openai_api_key=gpt_api_key,\n",
    "    openai_api_base='https://openai.api2d.net/v1'\n",
    ")"
   ]
  },
  {
   "cell_type": "code",
   "execution_count": null,
   "id": "21fe3b8b-70c5-4b46-bb98-d4d676afc10d",
   "metadata": {},
   "outputs": [],
   "source": [
    "review_template = \"\"\"\\\n",
    "从以下的文本提取信息:\n",
    "\n",
    "gift: is this a gift for someone？if yes set True，or False\n",
    "delivery_days: 花了几天收到了礼物？输出一个数字，如果没有这个信息，输出-1\n",
    "price_value: 获取这个物品的价格或者价值，如果有多个，用逗号分隔组成一个python数组\n",
    "cpu: describe the cpu model\n",
    "type: describe the type of product\n",
    "\n",
    "用以下的键值来格式化信息并输出一个JSON:\n",
    "gift\n",
    "delivery_days\n",
    "price_value\n",
    "cpu\n",
    "type\n",
    "\n",
    "文本: {text}\n",
    "\"\"\"\n",
    "\n",
    "# 创建 ChatPromptTemplate\n",
    "prompt_template = ChatPromptTemplate.from_template(review_template)\n",
    "\n",
    "# 用户的商品评价\n",
    "customer_review = \"\"\"\n",
    "使用了一个多月，大家评价好的部份我就不说了，\n",
    "原计划想买个ipadpro12.9，加上键盘也得一万二三(macbook入手1.4万多一点)，\n",
    "后做了大量功课，确定macbook14，只能说ipadpro能干的它能做，ipad不能干的它也能干，\n",
    "做为娱乐中心幸福感满满！速度，画质，音质，功能接口杠杠滴！\n",
    "\"\"\"\n",
    "\n",
    "messages = prompt_template.format_messages(text=customer_review)\n",
    "\n",
    "# 请求\n",
    "response = chat(messages)\n",
    "print(response.content)\n"
   ]
  },
  {
   "cell_type": "code",
   "execution_count": 6,
   "id": "4cfbf1f0-34e0-4da7-b693-000f673aefd8",
   "metadata": {},
   "outputs": [],
   "source": [
    "chat = ChatOpenAI(\n",
    "    temperature=0.0,\n",
    "    model_name=\"gpt-3.5-turbo-0613\",\n",
    "    max_tokens=1000,\n",
    "    openai_api_key=gpt_api_key,\n",
    "    openai_api_base='https://openai.api2d.net/v1'\n",
    ")"
   ]
  },
  {
   "cell_type": "code",
   "execution_count": 26,
   "id": "dc7fb7b1-a51c-4475-9526-c3716ccd7538",
   "metadata": {},
   "outputs": [],
   "source": [
    "import openai\n",
    "\n",
    "openai.api_key = os.environ['API2D_API_KEY']\n",
    "openai.api_base = 'https://openai.api2d.net/v1'\n",
    "\n",
    "def getInfo():\n",
    "    return \"可以\"\n",
    "    \n",
    "functions = [\n",
    "    {\n",
    "        \"name\": \"getInfo\",\n",
    "        \"description\": \"信息摘要\",\n",
    "        \"parameters\": {\n",
    "            \"type\": \"object\",\n",
    "            \"properties\": {\n",
    "                \"gift\": {\n",
    "                    \"type\": \"boolean\",\n",
    "                    \"description\": \"是不是一个礼物？是的话返回True，默认返回False\",\n",
    "                },\n",
    "                \"delivery_days\": {\n",
    "                    \"type\": \"integer\",\n",
    "                    \"description\": \"花了几天收到了礼物？输出一个数字，如果没有这个信息，输出-1\",\n",
    "                },\n",
    "                \"cpu\": {\n",
    "                    \"type\": \"string\",\n",
    "                    \"description\": \"描述cpu类型\",\n",
    "                },\n",
    "                \"type\": {\n",
    "                    \"type\": \"string\",\n",
    "                    \"description\": \"描述产品类型\",\n",
    "                }\n",
    "            },\n",
    "            \"required\": [\"gift\", \"delivery_days\"],\n",
    "        },\n",
    "    }\n",
    "]\n",
    "available_functions = {\n",
    "    \"getInfo\": getInfo,\n",
    "} "
   ]
  },
  {
   "cell_type": "code",
   "execution_count": 27,
   "id": "11269dcd-79e7-4093-8281-3edb66de6f21",
   "metadata": {},
   "outputs": [
    {
     "name": "stdout",
     "output_type": "stream",
     "text": [
      "getInfo\n",
      "{\n",
      "\"gift\": false, \n",
      "\"delivery_days\": -1, \n",
      "\"type\": \"macbook14\"\n",
      "}\n"
     ]
    }
   ],
   "source": [
    "import json\n",
    "\n",
    "messages = [\n",
    "        {\"role\": \"system\", \"content\": \"你现在是一个网店评论分析员\"},\n",
    "        {\"role\": \"user\", \"content\":  \"\"\"\n",
    "使用了一个多月，大家评价好的部份我就不说了，\n",
    "原计划想买个ipadpro12.9，加上键盘也得一万二三(macbook入手1.4万多一点)，\n",
    "后做了大量功课，确定macbook14，只能说ipadpro能干的它能做，ipad不能干的它也能干，\n",
    "做为娱乐中心幸福感满满！速度，画质，音质，功能接口杠杠滴！\n",
    "\"\"\"}\n",
    "    ]\n",
    "rsp = openai.ChatCompletion.create(\n",
    "  model=\"gpt-4-0613\",\n",
    "  functions=functions,\n",
    "  function_call=\"auto\",\n",
    "  messages=messages\n",
    ")\n",
    "response_message = rsp[\"choices\"][0][\"message\"]\n",
    "function = response_message[\"function_call\"]\n",
    "print(function['name'])\n",
    "print(function['arguments'])"
   ]
  },
  {
   "cell_type": "code",
   "execution_count": null,
   "id": "95b35610-6439-4f52-8501-0a1ba74991e3",
   "metadata": {},
   "outputs": [],
   "source": []
  }
 ],
 "metadata": {
  "kernelspec": {
   "display_name": "Python 3 (ipykernel)",
   "language": "python",
   "name": "python3"
  },
  "language_info": {
   "codemirror_mode": {
    "name": "ipython",
    "version": 3
   },
   "file_extension": ".py",
   "mimetype": "text/x-python",
   "name": "python",
   "nbconvert_exporter": "python",
   "pygments_lexer": "ipython3",
   "version": "3.9.16"
  }
 },
 "nbformat": 4,
 "nbformat_minor": 5
}
